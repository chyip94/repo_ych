{
 "cells": [
  {
   "cell_type": "markdown",
   "id": "0cf38fb5-73f5-4dc8-98fd-d23db675c944",
   "metadata": {},
   "source": [
    "# Data Science Tools and Ecosystem"
   ]
  },
  {
   "cell_type": "markdown",
   "id": "9de967ee-88ef-4c39-a47e-8c1f6f2df5b4",
   "metadata": {},
   "source": [
    "In this notebook, Data Science Tools and Ecosystem are summarized."
   ]
  },
  {
   "cell_type": "markdown",
   "id": "30051651-7b4d-43b4-b414-d3040d3410be",
   "metadata": {},
   "source": [
    "<b>Objectives:</b> \n",
    "1. List popular languages for Data Science\n",
    "2. List popular tools for Data Science\n",
    "3. List commonly used libraries by Data Scientists"
   ]
  },
  {
   "cell_type": "markdown",
   "id": "cb36fded-085a-4af7-a2f4-48eec80f692b",
   "metadata": {},
   "source": [
    "Some of the popular languages that Data Scientists use are:\n",
    "1. Python\n",
    "2. R\n",
    "3. Java\n",
    "4. C++"
   ]
  },
  {
   "cell_type": "markdown",
   "id": "914d8ebb-6788-4ec0-bd96-aa95a3eaf5eb",
   "metadata": {},
   "source": [
    "Some of the commonly used libraries used by Data Scientists include:\n",
    "1. Numpy\n",
    "2. Matplotlib\n",
    "3. Pandas\n",
    "4. Seaborn"
   ]
  },
  {
   "cell_type": "markdown",
   "id": "6238163f-4379-4879-b564-478ca742dadc",
   "metadata": {},
   "source": [
    "Data Science Tools |\n",
    "------|\n",
    "RStudio|\n",
    "Apache Spark|\n",
    "TensorFlow|"
   ]
  },
  {
   "cell_type": "markdown",
   "id": "5c66bfac-283b-41b0-8b70-9242250f7ca4",
   "metadata": {},
   "source": [
    "### Below are a few examples of evaluating arithmetic expressions in Python"
   ]
  },
  {
   "cell_type": "code",
   "execution_count": 1,
   "id": "6e888b4a-3d49-4df2-a841-1d99e2702ffa",
   "metadata": {},
   "outputs": [
    {
     "data": {
      "text/plain": [
       "17"
      ]
     },
     "execution_count": 1,
     "metadata": {},
     "output_type": "execute_result"
    }
   ],
   "source": [
    "#This a simple arithmetic expression to mutiply then add integers\n",
    "(3*4)+5"
   ]
  },
  {
   "cell_type": "code",
   "execution_count": 2,
   "id": "2cbbad4a-90ad-45ff-b90c-e0804783770c",
   "metadata": {},
   "outputs": [
    {
     "data": {
      "text/plain": [
       "3.3333333333333335"
      ]
     },
     "execution_count": 2,
     "metadata": {},
     "output_type": "execute_result"
    }
   ],
   "source": [
    "#This will convert 200 minutes to hours by diving by 60\n",
    "200/60"
   ]
  },
  {
   "cell_type": "markdown",
   "id": "cec3b975-c2f1-476d-bd8d-4cacada0b51f",
   "metadata": {},
   "source": [
    "## Author\n",
    "Name: Cheng"
   ]
  },
  {
   "cell_type": "code",
   "execution_count": null,
   "id": "bb4bebb0-0bc4-487f-9b74-39aa80c3d72f",
   "metadata": {},
   "outputs": [],
   "source": []
  }
 ],
 "metadata": {
  "kernelspec": {
   "display_name": "Python 3 (ipykernel)",
   "language": "python",
   "name": "python3"
  },
  "language_info": {
   "codemirror_mode": {
    "name": "ipython",
    "version": 3
   },
   "file_extension": ".py",
   "mimetype": "text/x-python",
   "name": "python",
   "nbconvert_exporter": "python",
   "pygments_lexer": "ipython3",
   "version": "3.12.8"
  }
 },
 "nbformat": 4,
 "nbformat_minor": 5
}
